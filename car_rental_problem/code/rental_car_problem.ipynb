{
 "cells": [
  {
   "cell_type": "code",
   "execution_count": 562,
   "metadata": {
    "collapsed": false
   },
   "outputs": [],
   "source": [
    "from scipy.stats import poisson\n",
    "import copy\n",
    "import os\n",
    "import itertools\n",
    "import pickle\n",
    "import random\n",
    "import numpy as np\n",
    "import seaborn as sns; sns.set()\n",
    "import matplotlib.pyplot as plt\n",
    "% matplotlib inline"
   ]
  },
  {
   "cell_type": "code",
   "execution_count": 563,
   "metadata": {
    "collapsed": false
   },
   "outputs": [],
   "source": [
    "distribution = 'poisson'\n",
    "environment = 'simple'\n",
    "exp_name = distribution + '_' + environment + '_discount0.5'\n",
    "results_dir = '/Users/kunal/Workspace/RL/car_rental_results/' + exp_name + '/'\n",
    "policy_dump_file = results_dir + 'policy_dump'\n",
    "state_values_dump_file = results_dir + 'state_values_dump'\n",
    "if not os.path.exists(results_dir):\n",
    "    os.makedirs(results_dir)"
   ]
  },
  {
   "cell_type": "code",
   "execution_count": 564,
   "metadata": {
    "collapsed": false
   },
   "outputs": [],
   "source": [
    "num_stations = 2\n",
    "moving_cost = 2\n",
    "parking_cost = 3\n",
    "max_parking_slots = 3\n",
    "rent_reward = 10\n",
    "moving_capacity = 3\n",
    "cap0, cap1 = 6, 6\n",
    "lambda_req0, lambda_req1 = 2, 3\n",
    "lambda_ret0, lambda_ret1 = 2, 1\n",
    "\n",
    "num_steps = 1000\n",
    "# Poisson Distribution for requests and returns\n",
    "requests = np.random.poisson(lam=(lambda_req0, lambda_req1), size=(num_steps, num_stations))\n",
    "returns = np.random.poisson(lam=(lambda_ret0, lambda_ret1), size=(num_steps, num_stations))"
   ]
  },
  {
   "cell_type": "code",
   "execution_count": 565,
   "metadata": {
    "collapsed": false
   },
   "outputs": [],
   "source": [
    "samples = np.random.poisson(lam=(lambda_req0, lambda_req1, lambda_ret0, lambda_ret1), size=(num_steps, 4))"
   ]
  },
  {
   "cell_type": "code",
   "execution_count": 566,
   "metadata": {
    "collapsed": false
   },
   "outputs": [
    {
     "data": {
      "image/png": "[encoded data removed]",
      "text/plain": [
       "<matplotlib.figure.Figure at 0x10baf8e10>"
      ]
     },
     "metadata": {},
     "output_type": "display_data"
    }
   ],
   "source": [
    "plt.hist([sample[0] for sample in samples])\n",
    "plt.show()"
   ]
  },
  {
   "cell_type": "code",
   "execution_count": 567,
   "metadata": {
    "collapsed": true
   },
   "outputs": [],
   "source": [
    "state_lists = [range(0, cap0 + 1), range(0, cap1 + 1)]\n",
    "states = list(itertools.product(*state_lists))\n",
    "actions = range(-moving_capacity, moving_capacity + 1, 1)\n",
    "# discount_rate = 0.5\n",
    "discount_rate = 0\n",
    "if environment == 'simple':\n",
    "    max_policy_eval_iterations = 3\n",
    "else:\n",
    "    max_policy_eval_iterations = 10\n",
    "max_iterations = 20"
   ]
  },
  {
   "cell_type": "code",
   "execution_count": 568,
   "metadata": {
    "collapsed": false
   },
   "outputs": [],
   "source": [
    "# Plotting methods\n",
    "def plot_policy(policy, acts):\n",
    "    fig = plt.figure()\n",
    "    ax = plt.subplot(111)\n",
    "    for action in acts:\n",
    "        action_states = [state for state in states if policy[state] == action]\n",
    "        x_val = [elem[1] for elem in action_states]\n",
    "        y_val = [elem[0] for elem in action_states] \n",
    "        ax.plot(x_val, y_val, label=action)\n",
    "    ax.set_xlabel('#Cars at location 1')\n",
    "    ax.set_ylabel('#Cars at location 0')\n",
    "    ax.set_xlim(-0.5, cap1 + 0.5)\n",
    "    ax.set_ylim(-0.5, cap0 + 0.5)\n",
    "    # Shrink current axis by 20%\n",
    "    box = ax.get_position()\n",
    "    ax.set_position([box.x0, box.y0, box.width * 0.8, box.height])\n",
    "    # Put a legend to the right of the current axis\n",
    "    ax.legend(loc='center left', bbox_to_anchor=(1, 0.5))\n",
    "    plt.show()\n",
    "    \n",
    "def plot_policy_dump():\n",
    "    with open(policy_dump_file, 'rb') as f:\n",
    "        policy_dump = pickle.load(f)\n",
    "    ncols = len(policy_dump)\n",
    "    fig, axs = plt.subplots(nrows=1, ncols=ncols, figsize=(21,4))\n",
    "    for i in range(ncols):\n",
    "        ax = axs[i]\n",
    "        policy = policy_dump[i]\n",
    "        for action in actions:\n",
    "            action_states = [state for state in states if policy[state] == action]\n",
    "            x_val = [elem[1] for elem in action_states]\n",
    "            y_val = [elem[0] for elem in action_states] \n",
    "            ax.plot(x_val, y_val, label=action)\n",
    "            ax.set_xlabel('#Cars at location 1')\n",
    "            ax.set_ylabel('#Cars at location 0')\n",
    "            ax.set_xlim(-0.5, cap1 + 0.5)\n",
    "            ax.set_ylim(-0.5, cap0 + 0.5)\n",
    "            # Shrink current axis by 20%\n",
    "            box = ax.get_position()\n",
    "            ax.set_position([box.x0, box.y0, box.width * 0.95, box.height])\n",
    "            # Put a legend to the right of the current axis\n",
    "            ax.legend(loc='center left', bbox_to_anchor=(1, 0.5))\n",
    "            axs[i].set_title('Policy{0}'.format(i))\n",
    "    plt.show()\n",
    "\n",
    "def plot_state_values(V, dim0, dim1):\n",
    "    x = range(0, dim1 + 1)\n",
    "    y = range(0, dim0 + 1)\n",
    "    matrix = np.array([[V[(y_val, x_val)] for y_val in y] for x_val in x])\n",
    "    # cmap = sns.cubehelix_palette(8, as_cmap=True)\n",
    "    cmap = None\n",
    "    sns.heatmap(matrix, cmap=cmap)"
   ]
  },
  {
   "cell_type": "code",
   "execution_count": 569,
   "metadata": {
    "collapsed": true
   },
   "outputs": [],
   "source": [
    "# Helper methods\n",
    "def get_poisson_probability(req0, req1, ret0, ret1):\n",
    "    if req0 < cap0:\n",
    "        preq0 = poisson.pmf(req0, lambda_req0)\n",
    "    else:\n",
    "        preq0 = (1 - poisson.cdf(cap0 - 1, lambda_req0)) \n",
    "    \n",
    "    if req1 < cap1:\n",
    "        preq1 = poisson.pmf(req1, lambda_req1)\n",
    "    else:\n",
    "        preq1 = 1 - poisson.cdf(cap1 - 1, lambda_req1)\n",
    "    \n",
    "    if ret0 < cap0:\n",
    "        pret0 = poisson.pmf(ret0, lambda_ret0)\n",
    "    else:\n",
    "        pret0 = 1 - poisson.cdf(cap0 - 1, lambda_ret0)\n",
    "    \n",
    "    if ret1 < cap1:\n",
    "        pret1 = poisson.pmf(ret1, lambda_ret1)\n",
    "    else:\n",
    "        pret1 = 1 - poisson.cdf(cap1 - 1, lambda_ret1)\n",
    "\n",
    "    return preq0 * preq1 * pret0 * pret1\n",
    "\n",
    "def get_uniform_probability(req0_max, req1_max, ret0_max, ret1_max):\n",
    "    preq0 = 1.0 / (req0_max + 1)\n",
    "    preq1 = 1.0 / (req1_max + 1)\n",
    "    pret0 = 1.0 / (ret0_max + 1)\n",
    "    pret1 = 1.0 / (ret1_max + 1)\n",
    "    return preq0 * preq1 * pret0 * pret1\n",
    "\n",
    "def update_station(c, req, ret, cap, action):\n",
    "    # Can't transfer more than current capacity\n",
    "    if action > c:\n",
    "        return -1, 0\n",
    "    # Can't store more than max capacity\n",
    "    avail = min(cap0, c - action)\n",
    "    # Give cars for rent\n",
    "    c_next = min(0, avail - req)\n",
    "    # Compute reward\n",
    "    reward = min(avail, req) * rent_reward\n",
    "    # Add back returned cars\n",
    "    c_next = min(cap, c_next + ret) \n",
    "    return c_next, reward\n",
    "    \n",
    "def exp_poisson_value(state, action, V):\n",
    "    c0, c1 = state[0], state[1]\n",
    "    assert (c0 <= cap0) and (c1 <= cap1)\n",
    "    exp_value = 0\n",
    "    for req0 in range(0, cap0 + 1):\n",
    "        for req1 in range(0, cap1 + 1):\n",
    "            for ret0 in range(0, cap0 + 1):\n",
    "                c0_next, reward0 = update_station(c0, req0, ret0, cap0, action)\n",
    "                if c0_next < 0:\n",
    "                    continue\n",
    "                for ret1 in range(0, cap1 + 1):\n",
    "                    c1_next, reward1 = update_station(c1, req1, ret1, cap1, -action)\n",
    "                    if c1_next < 0:\n",
    "                        continue\n",
    "                    # Compute discounted value\n",
    "                    next_state = (c0_next, c1_next)\n",
    "                    total_reward = reward0 + reward1 - get_cost(c0, c1, action)\n",
    "                    if distribution == 'poisson':\n",
    "                        probability = get_poisson_probability(req0 ,req1, ret0, ret1)\n",
    "                    else:\n",
    "                        probability = get_uniform_probability(cap0 ,cap1, cap0, cap1)\n",
    "                    exp_value += probability * (total_reward + discount_rate * V[next_state])\n",
    "    return exp_value\n",
    "\n",
    "def get_uniform_max_value(x):\n",
    "    y = 2 * x\n",
    "    if x % 2 != 0:\n",
    "        y += 1\n",
    "    return y\n",
    "\n",
    "def get_cost(c0, c1, action):\n",
    "    cost = 0\n",
    "    if environment == 'complex':\n",
    "        if action > 0:\n",
    "            cost = abs(action - 1) * moving_cost\n",
    "        else:\n",
    "            cost = abs(action) * moving_cost\n",
    "        if c0 > max_parking_slots:\n",
    "            cost += parking_cost\n",
    "        if c1 > max_parking_slots:\n",
    "            cost += parking_cost\n",
    "    else:\n",
    "        cost = abs(action) * moving_cost\n",
    "    return cost\n",
    "    \n",
    "def exp_uniform_value(state, action, V):\n",
    "    c0, c1 = state[0], state[1]\n",
    "    assert (c0 <= cap0) and (c1 <= cap1)\n",
    "    exp_value = 0\n",
    "    req0_max = get_uniform_max_value(lambda_req0)\n",
    "    req1_max = get_uniform_max_value(lambda_req1)\n",
    "    ret0_max = get_uniform_max_value(lambda_ret0)\n",
    "    ret1_max = get_uniform_max_value(lambda_ret1)\n",
    "    for req0 in range(0, req0_max + 1):\n",
    "        for req1 in range(0, req1_max + 1):\n",
    "            for ret0 in range(0, ret0_max + 1):\n",
    "                c0_next, reward0 = update_station(c0, req0, ret0, cap0, action)\n",
    "                if c0_next < 0:\n",
    "                    continue\n",
    "                for ret1 in range(0, ret1_max + 1):\n",
    "                    c1_next, reward1 = update_station(c1, req1, ret1, cap1, -action)\n",
    "                    if c1_next < 0:\n",
    "                        continue\n",
    "                    # Compute discounted value\n",
    "                    next_state = (c0_next, c1_next)\n",
    "                    total_reward = reward0 + reward1 - get_cost(c0, c1, action)\n",
    "                    probability = get_uniform_probability(req0_max, req1_max, ret0_max, ret1_max)\n",
    "                    exp_value += probability * (total_reward + discount_rate * V[next_state])\n",
    "    return exp_value\n",
    "\n",
    "def get_exp_value(state, action, V):\n",
    "    if distribution == 'uniform_non_symmetric':\n",
    "        return exp_uniform_value(state, action, V)\n",
    "    return exp_poisson_value(state, action, V)"
   ]
  },
  {
   "cell_type": "code",
   "execution_count": 570,
   "metadata": {
    "collapsed": false
   },
   "outputs": [],
   "source": [
    "# Policy Iteration methods\n",
    "def policy_eval(policy, V):\n",
    "    theota = 0.0001\n",
    "    iteration = 0\n",
    "    while True and iteration < max_policy_eval_iterations:\n",
    "        iteration += 1\n",
    "        delta = 0\n",
    "        for state in states:\n",
    "            v = V[state]\n",
    "            V[state] = get_exp_value(state, policy[state], V)\n",
    "            delta = max(delta, abs(v - V[state]))\n",
    "        print('Iteration = {0} Delta = {1}'.format(iteration, delta))\n",
    "        if delta < theota:\n",
    "            print('Policy evaluation converged after {0} iterations. Max Delta = {1}\\n'.format(iteration, delta))\n",
    "            break\n",
    "            \n",
    "def policy_improvement(policy, V, state_space):\n",
    "    policy_stable = True\n",
    "    stable_states = 0\n",
    "    for state in state_space:\n",
    "#         print('\\nFinding best action for state {0}'.format(state))\n",
    "        old_action = policy[state]\n",
    "        max_value, max_action = 0, None\n",
    "        for action in actions:\n",
    "#             print('Evaluating action: {0}'.format(action))\n",
    "            value = get_exp_value(state, action, V)\n",
    "#             print('Action value: {0}'.format(value))\n",
    "            if (max_action is None):\n",
    "                max_action = action\n",
    "                max_value = value\n",
    "                continue\n",
    "            # If two policies have same values choose the one which shifts lesser number of cars\n",
    "            if (max_value < value) or (max_value == value and abs(max_action) > abs(action)):\n",
    "#                 print('Updating max value action to {0}'.format(action))\n",
    "                max_value = value\n",
    "                max_action = action\n",
    "        assert max_action is not None\n",
    "        policy[state] = max_action\n",
    "        if old_action == policy[state]:\n",
    "            stable_states += 1\n",
    "        else:\n",
    "            policy_stable = False\n",
    "    print('\\n#Stable States:{0} Policy Stable: {1}'.format(stable_states, policy_stable))\n",
    "    return policy_stable\n",
    "\n",
    "def policy_iteration():\n",
    "    # Initialize policy randomly\n",
    "#     policy = {state : random.choice(actions) for state in states}\n",
    "    policy = {state : 0 for state in states}\n",
    "    # Dictionary to store policy at each iteration\n",
    "    policy_dump = {0: copy.deepcopy(policy)}\n",
    "    # Initialize all states to 0\n",
    "    V = {state : 0 for state in states}\n",
    "    policy_stable = False\n",
    "    iteration = 1\n",
    "    while not policy_stable and iteration < max_iterations:\n",
    "        print '\\nExecuting policy eval iter:{0}'.format(iteration)\n",
    "        policy_eval(policy, V)\n",
    "        print '\\nExecuting policy improvement iter:{0}'.format(iteration)\n",
    "        policy_stable = policy_improvement(policy, V, states)\n",
    "        # Store policy for plotting later\n",
    "        policy_dump[iteration] = copy.deepcopy(policy)\n",
    "        iteration += 1\n",
    "    return V, policy, policy_dump"
   ]
  },
  {
   "cell_type": "code",
   "execution_count": 571,
   "metadata": {
    "collapsed": false
   },
   "outputs": [
    {
     "data": {
      "image/png": "[encoded data removed]",
      "text/plain": [
       "<matplotlib.figure.Figure at 0x10b56f750>"
      ]
     },
     "metadata": {},
     "output_type": "display_data"
    }
   ],
   "source": [
    "plt.hist([request[1] for request in requests])\n",
    "plt.show()"
   ]
  },
  {
   "cell_type": "code",
   "execution_count": 572,
   "metadata": {
    "collapsed": false
   },
   "outputs": [
    {
     "name": "stdout",
     "output_type": "stream",
     "text": [
      "\n",
      "Executing policy eval iter:1\n",
      "Iteration = 1 Delta = 49.4337300196\n",
      "Iteration = 2 Delta = 0\n",
      "Policy evaluation converged after 2 iterations. Max Delta = 0\n",
      "\n",
      "\n",
      "Executing policy improvement iter:1\n",
      "\n",
      "#Stable States:18 Policy Stable: False\n",
      "\n",
      "Executing policy eval iter:2\n",
      "Iteration = 1 Delta = 20.3352889667\n",
      "Iteration = 2 Delta = 0\n",
      "Policy evaluation converged after 2 iterations. Max Delta = 0\n",
      "\n",
      "\n",
      "Executing policy improvement iter:2\n",
      "\n",
      "#Stable States:49 Policy Stable: True\n"
     ]
    }
   ],
   "source": [
    "V_star, policy_star, policy_dump = policy_iteration()"
   ]
  },
  {
   "cell_type": "code",
   "execution_count": 573,
   "metadata": {
    "collapsed": true
   },
   "outputs": [],
   "source": [
    "# Dump the poclicies for plotting later\n",
    "with open(policy_dump_file, 'wb') as f:\n",
    "    pickle.dump(policy_dump, f)"
   ]
  },
  {
   "cell_type": "code",
   "execution_count": 574,
   "metadata": {
    "collapsed": false
   },
   "outputs": [
    {
     "data": {
      "image/png": "[encoded data removed]",
      "text/plain": [
       "<matplotlib.figure.Figure at 0x10c657fd0>"
      ]
     },
     "metadata": {},
     "output_type": "display_data"
    }
   ],
   "source": [
    "plot_policy(policy_star, actions)"
   ]
  },
  {
   "cell_type": "code",
   "execution_count": 575,
   "metadata": {
    "collapsed": false
   },
   "outputs": [
    {
     "data": {
      "image/png": "[encoded data removed]",
      "text/plain": [
       "<matplotlib.figure.Figure at 0x10c630dd0>"
      ]
     },
     "metadata": {},
     "output_type": "display_data"
    }
   ],
   "source": [
    "plot_policy_dump()"
   ]
  },
  {
   "cell_type": "code",
   "execution_count": 576,
   "metadata": {
    "collapsed": false
   },
   "outputs": [
    {
     "data": {
      "image/png": "[encoded data removed]",
      "text/plain": [
       "<matplotlib.figure.Figure at 0x10b4aa310>"
      ]
     },
     "metadata": {},
     "output_type": "display_data"
    }
   ],
   "source": [
    "plot_state_values(V_star, cap0, cap1)"
   ]
  },
  {
   "cell_type": "code",
   "execution_count": 577,
   "metadata": {
    "collapsed": false,
    "scrolled": true
   },
   "outputs": [
    {
     "name": "stdout",
     "output_type": "stream",
     "text": [
      "State: (0,0) = 0.0\n",
      "State: (0,1) = 2.20841412314\n",
      "State: (0,2) = 5.96840629467\n",
      "State: (0,3) = 10.7735771055\n",
      "State: (0,4) = 17.0704349313\n",
      "State: (0,5) = 22.3021610991\n",
      "State: (0,6) = 28.6785322868\n",
      "State: (1,0) = 1.70663238391\n",
      "State: (1,1) = 5.55277255822\n",
      "State: (1,2) = 11.7420708831\n",
      "State: (1,3) = 18.3017084636\n",
      "State: (1,4) = 23.7123610616\n",
      "State: (1,5) = 30.3012284152\n",
      "State: (1,6) = 34.8674788953\n",
      "State: (2,0) = 4.90228353046\n",
      "State: (2,1) = 10.7735771055\n",
      "State: (2,2) = 17.0704349313\n",
      "State: (2,3) = 25.1094379817\n",
      "State: (2,4) = 31.9239245437\n",
      "State: (2,5) = 36.6125494105\n",
      "State: (2,6) = 40.3764504432\n",
      "State: (3,0) = 9.80508332804\n",
      "State: (3,1) = 15.8391613989\n",
      "State: (3,2) = 23.692629836\n",
      "State: (3,3) = 30.3012284152\n",
      "State: (3,4) = 37.0124725522\n",
      "State: (3,5) = 42.2409154319\n",
      "State: (3,6) = 45.0478330139\n",
      "State: (4,0) = 14.6078878665\n",
      "State: (4,1) = 22.2758216903\n",
      "State: (4,2) = 28.6785322868\n",
      "State: (4,3) = 35.2787545777\n",
      "State: (4,4) = 40.3764504432\n",
      "State: (4,5) = 44.9998107095\n",
      "State: (4,6) = 47.9348134132\n",
      "State: (5,0) = 20.8590135446\n",
      "State: (5,1) = 27.0558361584\n",
      "State: (5,2) = 33.5450366033\n",
      "State: (5,3) = 38.5119854544\n",
      "State: (5,4) = 43.0840554809\n",
      "State: (5,5) = 46.1054457234\n",
      "State: (5,6) = 49.0898992535\n",
      "State: (6,0) = 24.822013632\n",
      "State: (6,1) = 31.8113186288\n",
      "State: (6,2) = 36.6475204656\n",
      "State: (6,3) = 41.1683002522\n",
      "State: (6,4) = 44.1715339695\n",
      "State: (6,5) = 47.0943825348\n",
      "State: (6,6) = 49.4337300196\n"
     ]
    }
   ],
   "source": [
    "for y in range(0, cap0 + 1):\n",
    "    for x in range(0, cap1 + 1):\n",
    "        print('State: ({0},{1}) = {2}'.format(y, x, V_star[(y,x)]))"
   ]
  },
  {
   "cell_type": "code",
   "execution_count": 578,
   "metadata": {
    "collapsed": false
   },
   "outputs": [],
   "source": [
    "# params = ['c0', 'c1', 'lambda_req0', 'lambda_req1', 'lambda_ret0', 'lambda_ret1', 'moving_cost', 'rent_reward']\n",
    "params = ['c0', 'c1']\n",
    "X_train = np.zeros(((cap0 + 1) * (cap1 + 1), len(params)))\n",
    "y_train = np.zeros((cap0 + 1) * (cap1 + 1))\n",
    "i = 0\n",
    "for c0 in range(0, cap0 + 1):\n",
    "    for c1 in range(0, cap1 + 1):\n",
    "#         X_train[i] = np.array([c0, c1, lambda_req0, lambda_req1, lambda_ret0, lambda_ret1, moving_cost, rent_reward])\n",
    "        X_train[i, :] = np.array([c0, c1])\n",
    "        y_train[i] = V_star[(c0, c1)]\n",
    "        i += 1"
   ]
  },
  {
   "cell_type": "code",
   "execution_count": 579,
   "metadata": {
    "collapsed": false
   },
   "outputs": [],
   "source": [
    "cap0_test, cap1_test = 20, 20\n",
    "X_test = np.zeros(((cap0_test + 1) * (cap0_test + 1), len(params)))\n",
    "lambda_req0_test = 3\n",
    "lambda_req1_test = 4\n",
    "lambda_ret0_test = 3\n",
    "lambda_ret1_test = 2\n",
    "i = 0\n",
    "for c0 in range(0, cap0_test + 1):\n",
    "    for c1 in range(0, cap0_test + 1):\n",
    "#          X_test[i] = np.array([c0, c1, lambda_req0_test, lambda_req1_test, lambda_ret0_test, lambda_ret1_test,\n",
    "#                                 moving_cost, rent_reward])\n",
    "        X_test[i] = np.array([c0, c1])\n",
    "        i += 1\n",
    "y_test = regr.predict(X_test)"
   ]
  },
  {
   "cell_type": "code",
   "execution_count": 580,
   "metadata": {
    "collapsed": false
   },
   "outputs": [
    {
     "data": {
      "image/png": "[encoded data removed]",
      "text/plain": [
       "<matplotlib.figure.Figure at 0x10c311f90>"
      ]
     },
     "metadata": {},
     "output_type": "display_data"
    }
   ],
   "source": [
    "from sklearn.svm import SVR\n",
    "clf = SVR(C=1, epsilon=0.2, kernel='linear')\n",
    "clf.fit(X_train, y_train)\n",
    "# y_train_pred = clf.predict(X_train)\n",
    "y_test = clf.predict(X_test)\n",
    "V_test = np.reshape(y_test, [cap0_test + 1, cap1_test + 1])\n",
    "plot_state_values(V_test, cap0_test, cap1_test)"
   ]
  },
  {
   "cell_type": "code",
   "execution_count": 581,
   "metadata": {
    "collapsed": false
   },
   "outputs": [],
   "source": [
    "with open(state_values_dump_file, 'wb') as f:\n",
    "    pickle.dump(V_test, f)"
   ]
  },
  {
   "cell_type": "code",
   "execution_count": 582,
   "metadata": {
    "collapsed": false
   },
   "outputs": [
    {
     "data": {
      "text/plain": [
       "'/Users/kunal/Workspace/RL/car_rental_results/poisson_simple_discount0.5/state_values_dump'"
      ]
     },
     "execution_count": 582,
     "metadata": {},
     "output_type": "execute_result"
    }
   ],
   "source": [
    "state_values_dump_file"
   ]
  }
 ],
 "metadata": {
  "kernelspec": {
   "display_name": "Python 2",
   "language": "python",
   "name": "python2"
  },
  "language_info": {
   "codemirror_mode": {
    "name": "ipython",
    "version": 2
   },
   "file_extension": ".py",
   "mimetype": "text/x-python",
   "name": "python",
   "nbconvert_exporter": "python",
   "pygments_lexer": "ipython2",
   "version": "2.7.10"
  }
 },
 "nbformat": 4,
 "nbformat_minor": 0
}
